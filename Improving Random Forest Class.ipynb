{
 "cells": [
  {
   "cell_type": "code",
   "execution_count": 1,
   "id": "f8ba5602",
   "metadata": {},
   "outputs": [],
   "source": [
    "# Initial imports.\n",
    "import pandas as pd\n",
    "import numpy as np\n",
    "from path import Path\n",
    "from sklearn.ensemble import RandomForestClassifier\n",
    "from sklearn.preprocessing import StandardScaler\n",
    "from sklearn.model_selection import train_test_split\n",
    "from sklearn.metrics import confusion_matrix, accuracy_score, classification_report"
   ]
  },
  {
   "cell_type": "markdown",
   "id": "83ef77f5",
   "metadata": {},
   "source": [
    "### Load in Data"
   ]
  },
  {
   "cell_type": "code",
   "execution_count": 2,
   "id": "f91d1320",
   "metadata": {},
   "outputs": [],
   "source": [
    "# Importing the input dataset\n",
    "heart_df_undersampled = pd.read_csv('Resources/heart_undersampled.csv')"
   ]
  },
  {
   "cell_type": "markdown",
   "id": "08cd8e3d",
   "metadata": {},
   "source": [
    "### Prepare Data"
   ]
  },
  {
   "cell_type": "code",
   "execution_count": 4,
   "id": "86d59c3d",
   "metadata": {},
   "outputs": [],
   "source": [
    "# Removing HeartDisease target from features data\n",
    "y = heart_df_undersampled.loc[:,\"HeartDisease\"]\n",
    "X = heart_df_undersampled.drop(columns=\"HeartDisease\")\n",
    "\n",
    "# Split training/test datasets\n",
    "X_train, X_test, y_train, y_test = train_test_split(X, y, random_state=78)"
   ]
  },
  {
   "cell_type": "code",
   "execution_count": 5,
   "id": "c35681c4",
   "metadata": {},
   "outputs": [
    {
     "name": "stdout",
     "output_type": "stream",
     "text": [
      "Training Features Shape: (41059, 53)\n",
      "Training Target Shape: (41059,)\n",
      "Testing Features Shape: (13687, 53)\n",
      "Testing Target Shape: (13687,)\n"
     ]
    }
   ],
   "source": [
    "print('Training Features Shape:', X_train.shape)\n",
    "print('Training Target Shape:', y_train.shape)\n",
    "print('Testing Features Shape:', X_test.shape)\n",
    "print('Testing Target Shape:', y_test.shape)"
   ]
  },
  {
   "cell_type": "markdown",
   "id": "6491450b",
   "metadata": {},
   "source": [
    "### Determine Random Forest Parameters"
   ]
  },
  {
   "cell_type": "code",
   "execution_count": null,
   "id": "0e89ef19",
   "metadata": {},
   "outputs": [],
   "source": []
  }
 ],
 "metadata": {
  "kernelspec": {
   "display_name": "mlenv",
   "language": "python",
   "name": "mlenv"
  },
  "language_info": {
   "codemirror_mode": {
    "name": "ipython",
    "version": 3
   },
   "file_extension": ".py",
   "mimetype": "text/x-python",
   "name": "python",
   "nbconvert_exporter": "python",
   "pygments_lexer": "ipython3",
   "version": "3.7.11"
  }
 },
 "nbformat": 4,
 "nbformat_minor": 5
}
