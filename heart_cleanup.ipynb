{
 "cells": [
  {
   "cell_type": "markdown",
   "id": "74746a24",
   "metadata": {},
   "source": [
    "# TRANSFORMING THE DATA"
   ]
  },
  {
   "cell_type": "code",
   "execution_count": 1,
   "id": "51d9cbe1",
   "metadata": {},
   "outputs": [],
   "source": [
    "import pandas as pd\n",
    "import psycopg2 as pg\n",
    "from sqlalchemy import create_engine"
   ]
  },
  {
   "cell_type": "code",
   "execution_count": null,
   "id": "05fe0b37",
   "metadata": {},
   "outputs": [],
   "source": [
    "from getpass import getpass\n",
    "password = getpass('Enter database password')"
   ]
  },
  {
   "cell_type": "code",
   "execution_count": null,
   "id": "d38f5afe",
   "metadata": {
    "scrolled": true
   },
   "outputs": [],
   "source": [
    "# Creating df from Postgre table\n",
    "engine = pg.connect(f\"dbname='Heart_Disease' user='postgres' host='localhost' port='5432' password={password} \")\n",
    "heart_df = pd.read_sql('select * from heart_disease_key_indicators', con=engine)\n",
    "print(heart_df.shape)\n",
    "heart_df.head(5)"
   ]
  },
  {
   "cell_type": "code",
   "execution_count": null,
   "id": "19144a69",
   "metadata": {},
   "outputs": [],
   "source": [
    "# Checking column names\n",
    "heart_df.columns"
   ]
  },
  {
   "cell_type": "code",
   "execution_count": null,
   "id": "68362a3f",
   "metadata": {},
   "outputs": [],
   "source": [
    "# Checking columns datatypes\n",
    "heart_df.dtypes"
   ]
  },
  {
   "cell_type": "code",
   "execution_count": null,
   "id": "11a8519a",
   "metadata": {},
   "outputs": [],
   "source": [
    "# Checking for null values\n",
    "heart_df.isnull().sum()"
   ]
  },
  {
   "cell_type": "code",
   "execution_count": null,
   "id": "f80f5789",
   "metadata": {},
   "outputs": [],
   "source": [
    "# Checking and removing duplicate entries\n",
    "duplicates = heart_df.duplicated(keep='first')\n",
    "heart_df = heart_df[~duplicates]\n",
    "print(heart_df.shape)\n",
    "heart_df.head(10)"
   ]
  },
  {
   "cell_type": "code",
   "execution_count": null,
   "id": "880ffac2",
   "metadata": {},
   "outputs": [],
   "source": [
    "# Drop id column\n",
    "heart_df = heart_df.drop(columns='id')\n",
    "heart_df.head()"
   ]
  },
  {
   "cell_type": "code",
   "execution_count": null,
   "id": "3c298b0e",
   "metadata": {},
   "outputs": [],
   "source": [
    "# Rename columns\n",
    "heart_df = heart_df.rename(columns={\n",
    "    'heartdisease': 'HeartDisease',\n",
    "    'smoking': 'Smoking',\n",
    "    'alcoholdrinking': 'AlcoholDrinking',\n",
    "    'stroke': 'Stroke',\n",
    "    'diffwalking': 'DiffWalking',\n",
    "    'sex': 'Sex',\n",
    "    'physicalactivity': 'PhysicalActivity',\n",
    "    'asthma': 'Asthma',\n",
    "    'kidneydisease': 'KidneyDisease',\n",
    "    'skincancer': 'SkinCancer',\n",
    "    'bmi': 'BMI',\n",
    "    'physicalhealth': 'PhysicalHealth',\n",
    "    'mentalhealth': 'MentalHealth',\n",
    "    'agecategory': 'AgeCategory',\n",
    "    'race': 'Race',\n",
    "    'diabetic': 'Diabetic',\n",
    "    'genhealth': 'GenHealth',\n",
    "    'sleeptime': 'SleepTime'\n",
    "})"
   ]
  },
  {
   "cell_type": "code",
   "execution_count": null,
   "id": "bc3979fe",
   "metadata": {},
   "outputs": [],
   "source": [
    "# Checking column names\n",
    "heart_df.columns"
   ]
  },
  {
   "cell_type": "code",
   "execution_count": null,
   "id": "f9225198",
   "metadata": {},
   "outputs": [],
   "source": [
    "# Transforming string 'HeartDisease' column\n",
    "def change_string(row):\n",
    "    if row == 'Yes':\n",
    "        return 1\n",
    "    else:\n",
    "        return 0\n",
    "    \n",
    "heart_df['HeartDisease'] = heart_df['HeartDisease'].apply(change_string)\n",
    "heart_df.head(10)"
   ]
  },
  {
   "cell_type": "code",
   "execution_count": null,
   "id": "c17d12f0",
   "metadata": {},
   "outputs": [],
   "source": [
    "# Determining the number of unique values in each column\n",
    "heart_df.nunique()"
   ]
  },
  {
   "cell_type": "code",
   "execution_count": null,
   "id": "35b6bcbd",
   "metadata": {},
   "outputs": [],
   "source": [
    "# Checking value_counts for AgeCategory column\n",
    "age_counts = heart_df.AgeCategory.value_counts()\n",
    "age_counts"
   ]
  },
  {
   "cell_type": "code",
   "execution_count": null,
   "id": "aa66855b",
   "metadata": {},
   "outputs": [],
   "source": [
    "# Checking value_counts for BMI column\n",
    "bmi_counts = heart_df.BMI.value_counts()\n",
    "bmi_counts"
   ]
  },
  {
   "cell_type": "code",
   "execution_count": null,
   "id": "2551f55d",
   "metadata": {},
   "outputs": [],
   "source": [
    "# Binning BMI values *based on the CDC (https://www.cdc.gov/healthyweight/assessing/bmi/adult_bmi/index.html)\n",
    "replace_bmi = list(bmi_counts.index)\n",
    "\n",
    "for bmi in replace_bmi:\n",
    "    if bmi >= 30.0:\n",
    "        heart_df.BMI = heart_df.BMI.replace(bmi,'Obesity')\n",
    "    elif bmi >= 25.0 and bmi <= 29.9:\n",
    "        heart_df.BMI = heart_df.BMI.replace(bmi,'Overweight')\n",
    "    elif bmi >= 18.5 and bmi <= 24.9:\n",
    "        heart_df.BMI = heart_df.BMI.replace(bmi,'Healthy_Weight')\n",
    "    else:\n",
    "        heart_df.BMI = heart_df.BMI.replace(bmi,'Underweight')"
   ]
  },
  {
   "attachments": {
    "image.png": {
     "image/png": "[encoded data removed]"
    }
   },
   "cell_type": "markdown",
   "id": "3c288cd4",
   "metadata": {},
   "source": [
    "![image.png](attachment:image.png)"
   ]
  },
  {
   "cell_type": "code",
   "execution_count": null,
   "id": "1c0f9bb7",
   "metadata": {},
   "outputs": [],
   "source": [
    "# Checking BMI column changes\n",
    "print(heart_df.BMI.value_counts())\n",
    "heart_df.head()"
   ]
  },
  {
   "cell_type": "code",
   "execution_count": null,
   "id": "862a7c5f",
   "metadata": {},
   "outputs": [],
   "source": [
    "# Using get_dummies() to create variables for text features\n",
    "heart_modeling = pd.get_dummies(heart_df)\n",
    "print(heart_modeling.shape)\n",
    "heart_modeling.head()"
   ]
  },
  {
   "cell_type": "code",
   "execution_count": null,
   "id": "286acacf",
   "metadata": {},
   "outputs": [],
   "source": [
    "# Export dataframe to CSV without index\n",
    "heart_df.to_csv('Resources/heart_clean.csv', index=False)\n",
    "heart_modeling.to_csv('Resources/heart_dummies.csv', index=False)"
   ]
  }
 ],
 "metadata": {
  "kernelspec": {
   "display_name": "PythonData",
   "language": "python",
   "name": "pythondata"
  },
  "language_info": {
   "codemirror_mode": {
    "name": "ipython",
    "version": 3
   },
   "file_extension": ".py",
   "mimetype": "text/x-python",
   "name": "python",
   "nbconvert_exporter": "python",
   "pygments_lexer": "ipython3",
   "version": "3.7.11"
  }
 },
 "nbformat": 4,
 "nbformat_minor": 5
}
